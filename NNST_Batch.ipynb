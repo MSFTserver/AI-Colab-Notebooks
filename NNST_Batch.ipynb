{
  "nbformat": 4,
  "nbformat_minor": 0,
  "metadata": {
    "colab": {
      "name": "NNST-Batch.ipynb",
      "provenance": [],
      "collapsed_sections": [],
      "private_outputs": true,
      "authorship_tag": "ABX9TyPU5fpOrNR2RpQHYtI2n63Z",
      "include_colab_link": true
    },
    "kernelspec": {
      "name": "python3",
      "display_name": "Python 3"
    },
    "language_info": {
      "name": "python"
    },
    "accelerator": "GPU"
  },
  "cells": [
    {
      "cell_type": "markdown",
      "metadata": {
        "id": "view-in-github",
        "colab_type": "text"
      },
      "source": [
        "<a href=\"https://colab.research.google.com/github/MSFTserver/AI-Colab-Notebooks/blob/main/NNST_Batch.ipynb\" target=\"_parent\"><img src=\"https://colab.research.google.com/assets/colab-badge.svg\" alt=\"Open In Colab\"/></a>"
      ]
    },
    {
      "cell_type": "markdown",
      "source": [
        "# [Batch] Neural Neighbor Style Transfer \n",
        "https://github.com/nkolkin13/NeuralNeighborStyleTransfer\n",
        "<br><br>\n",
        "\n",
        "Colab ~~Repo~~ for the algorithm NNST-Opt, described in the preprint \"Neural Neighbor Style Transfer\", please feel free to email any questions to kolkin@adobe.com Paper Link: https://ttic.uchicago.edu/~nickkolkin/Paper/NNST_Preprint.pdf\n",
        "\n",
        "----\n",
        "<br><br>\n",
        "made to run in colab by [MSFTserver](https://gist.github.com/MSFTserver) aka [HostsServer](https://twitter.com/hostsserver)"
      ],
      "metadata": {
        "id": "abeUr-VVTD8x"
      }
    },
    {
      "cell_type": "code",
      "execution_count": null,
      "metadata": {
        "cellView": "form",
        "id": "Pa9Ej2RWSsaS"
      },
      "outputs": [],
      "source": [
        "#@markdown # 1) Download & Import Dependecies\n",
        "\n",
        "# Core Imports\n",
        "import time, argparse, random, sys, os\n",
        "from google.colab import drive\n",
        "\n",
        "# External Dependency Imports\n",
        "from imageio import imwrite\n",
        "import torch\n",
        "import numpy as np\n",
        "from IPython.display import Image\n",
        "\n",
        "# Internal Project Imports\n",
        "!git clone https://github.com/nkolkin13/NeuralNeighborStyleTransfer\n",
        "sys.path.append('/content/NeuralNeighborStyleTransfer')\n",
        "from pretrained.vgg import Vgg16Pretrained\n",
        "from utils import misc as misc\n",
        "from utils.misc import load_path_for_pytorch\n",
        "from utils.stylize import produce_stylization"
      ]
    },
    {
      "cell_type": "code",
      "source": [
        "#@markdown # 2) Prepare Folders and Mount Drive\n",
        "#@markdown ### <font color=\"red\"> READ BEFORE RUNNING </font>\n",
        "\n",
        "def createPath(filepath):\n",
        "    if os.path.exists(filepath) == False:\n",
        "      os.makedirs(filepath)\n",
        "      print(f'Made {filepath}')\n",
        "    else:\n",
        "      print(f'filepath {filepath} exists.')\n",
        "\n",
        "#@markdown specify the folder the images are located in your google drive\n",
        "\n",
        "#@markdown this will also be used as the path to create the `out` folder\n",
        "image_folder = \"AI/NNST\" #@param {type:\"string\"}\n",
        "\n",
        "drive.mount('/content/drive')\n",
        "root_path = f'/content/drive/MyDrive/{image_folder}'\n",
        "\n",
        "input_path = f'{root_path}'\n",
        "output_path = f'{root_path}/out'\n",
        "\n",
        "createPath(output_path)"
      ],
      "metadata": {
        "cellView": "form",
        "id": "EE0haTPEX1-F"
      },
      "execution_count": null,
      "outputs": []
    },
    {
      "cell_type": "code",
      "source": [
        "#@markdown # 4) Upload Style Image\n",
        "#@markdown run this code block to see the `browse` dialog box to upload files in the output window\n",
        "import os\n",
        "from google.colab import files\n",
        "import shutil\n",
        "\n",
        "uploaded_style_image = files.upload()\n",
        "style_image_file_name = list(uploaded_style_image.keys())[0]\n",
        "style_path = os.path.join('/content', style_image_file_name)\n",
        "\n",
        "from IPython.display import Image\n",
        "Image(style_path, height=500)"
      ],
      "metadata": {
        "cellView": "form",
        "id": "y2MOwQW9hTVK"
      },
      "execution_count": null,
      "outputs": []
    },
    {
      "cell_type": "code",
      "source": [
        "#@markdown # 5) Config\n",
        "# Fix Random Seed\n",
        "random.seed(0)\n",
        "np.random.seed(0)\n",
        "torch.manual_seed(0)\n",
        "\n",
        "# Define Configuration\n",
        "high_res = False #@param {type:\"boolean\"}\n",
        "cpu = False #@param {type:\"boolean\"}\n",
        "no_flip = False #@param {type:\"boolean\"}\n",
        "content_loss = False #@param {type:\"boolean\"}\n",
        "dont_colorize = False #@param {type:\"boolean\"}\n",
        "alpha=0.75 #@param {type:\"number\"}\n",
        "\n",
        "# Interpret config options arguments\n",
        "max_scls = 4\n",
        "sz = 512\n",
        "if high_res:\n",
        "    max_scls = 5\n",
        "    sz = 1024\n",
        "flip_aug = (not no_flip)\n",
        "misc.USE_GPU = (not cpu)\n",
        "content_weight = 1. - alpha\n",
        "\n",
        "# Error checking for arguments\n",
        "# error checking for paths deferred to imageio\n",
        "assert (0.0 <= content_weight) and (content_weight <= 1.0), \"alpha must be between 0 and 1\"\n",
        "assert torch.cuda.is_available() or (not misc.USE_GPU), \"attempted to use gpu when unavailable\""
      ],
      "metadata": {
        "cellView": "form",
        "id": "1G_PF6q8TDZ9"
      },
      "execution_count": null,
      "outputs": []
    },
    {
      "cell_type": "code",
      "source": [
        "import base64\n",
        "#@markdown # 6) Run Style Transfer\n",
        "def doRun(input_path,style_path,file_number,image_name):\n",
        "  # Define feature extractor\n",
        "  cnn = misc.to_device(Vgg16Pretrained())\n",
        "  phi = lambda x, y, z: cnn.forward(x, inds=y, concat=z)\n",
        "\n",
        "  # Load images\n",
        "  content_im_orig = misc.to_device(load_path_for_pytorch(input_path, target_size=sz)).unsqueeze(0)\n",
        "  style_im_orig = misc.to_device(load_path_for_pytorch(style_path, target_size=sz)).unsqueeze(0)\n",
        "\n",
        "  # Run Style Transfer\n",
        "  torch.cuda.synchronize()\n",
        "  start_time = time.time()\n",
        "  output = produce_stylization(content_im_orig, style_im_orig, phi,\n",
        "                              max_iter=200,\n",
        "                              lr=2e-3,\n",
        "                              content_weight=content_weight,\n",
        "                              max_scls=max_scls,\n",
        "                              flip_aug=flip_aug,\n",
        "                              content_loss=content_loss,\n",
        "                              dont_colorize=dont_colorize)\n",
        "  torch.cuda.synchronize()\n",
        "  print('Done! image time: {}'.format(time.time() - start_time))\n",
        "\n",
        "  # Convert from pyTorch to numpy, clip to valid range\n",
        "  new_im_out = np.clip(output[0].permute(1, 2, 0).detach().cpu().numpy(), 0., 1.)\n",
        "\n",
        "  # Save stylized output\n",
        "  save_im = (new_im_out * 255).astype(np.uint8)\n",
        "  print()\n",
        "  imwrite(f'{output_path}/{image_name}-styled{image_number}.jpg', save_im)\n",
        "  Image(f'{output_path}/{image_name}-styled{image_number}.jpg')\n",
        "  # Free gpu memory in case something else needs it later\n",
        "  if misc.USE_GPU:\n",
        "      torch.cuda.empty_cache()\n",
        "\n",
        "image_number = 0\n",
        "batch_start_time = time.time()\n",
        "for image_file in os.scandir(input_path):\n",
        "    if image_file.is_file():\n",
        "      image_number = image_number + 1\n",
        "      image_name, image_ext = os.path.splitext(os.path.basename(image_file.path))\n",
        "      new_input_path = os.path.join(input_path, f'{image_name}{image_ext}')\n",
        "      print(f'Processing Image #{image_number} {image_name}{image_ext}')\n",
        "      doRun(new_input_path,style_path,image_number,image_name)\n",
        "print(f'Done! batch of {image_number} images in: {time.time() - batch_start_time}')"
      ],
      "metadata": {
        "cellView": "form",
        "id": "qQVBrMX1WgF_"
      },
      "execution_count": null,
      "outputs": []
    }
  ]
}