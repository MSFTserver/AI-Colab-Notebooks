{
  "nbformat": 4,
  "nbformat_minor": 0,
  "metadata": {
    "colab": {
      "name": "VQGAN_Prompts_Generator.ipynb",
      "private_outputs": true,
      "provenance": [],
      "collapsed_sections": [],
      "authorship_tag": "ABX9TyPtQn1OgZ1hXkMaMjr6bmWs",
      "include_colab_link": true
    },
    "kernelspec": {
      "name": "python3",
      "display_name": "Python 3"
    },
    "language_info": {
      "name": "python"
    }
  },
  "cells": [
    {
      "cell_type": "markdown",
      "metadata": {
        "id": "view-in-github",
        "colab_type": "text"
      },
      "source": [
        "<a href=\"https://colab.research.google.com/github/MSFTserver/AI-Colab-Notebooks/blob/main/VQGAN_Prompts_Generator.ipynb\" target=\"_parent\"><img src=\"https://colab.research.google.com/assets/colab-badge.svg\" alt=\"Open In Colab\"/></a>"
      ]
    },
    {
      "cell_type": "markdown",
      "source": [
        "# VQGAN_Prompts\n",
        "Generates a random prompt for a VQGAN+CLIP\n",
        "\n",
        "Creates a text prompt for VQGANs based on a random selection of \"things\", \"places\", \"colors\", \"styles\", and \"artists.\n",
        "\n",
        "Simply run the code and feed that into your VQGAN.\n",
        "\n",
        "## Credit to [dughogan](https://github.com/dughogan) orignal project on [Github](https://github.com/dughogan/VQGAN_Prompts)\n",
        "\n",
        "edited by : [HostsServer](https://github.com/MSFTserver) (only wrapped the function to do multiple prompts at a single time)"
      ],
      "metadata": {
        "id": "Yzg_WxUx0QiX"
      }
    },
    {
      "cell_type": "code",
      "source": [
        "#@markdown # 1) Download random lists\n",
        "#@markdown run this once and generate as many times\n",
        "print(\"downloading lists...\")\n",
        "!curl -L -o styles -C - 'https://raw.githubusercontent.com/dughogan/VQGAN_Prompts/main/styles'&> /dev/null\n",
        "!curl -L -o things -C - 'https://raw.githubusercontent.com/dughogan/VQGAN_Prompts/main/things'&> /dev/null\n",
        "!curl -L -o places -C - 'https://raw.githubusercontent.com/dughogan/VQGAN_Prompts/main/places'&> /dev/null\n",
        "!curl -L -o shapes -C - 'https://raw.githubusercontent.com/dughogan/VQGAN_Prompts/main/shapes'&> /dev/null\n",
        "!curl -L -o colors -C - 'https://raw.githubusercontent.com/dughogan/VQGAN_Prompts/main/colors'&> /dev/null\n",
        "!curl -L -o artists -C - 'https://raw.githubusercontent.com/dughogan/VQGAN_Prompts/main/artists'&> /dev/null\n",
        "print(\"finished\")"
      ],
      "metadata": {
        "cellView": "form",
        "id": "tiOsdJV4u0FY"
      },
      "execution_count": null,
      "outputs": []
    },
    {
      "cell_type": "code",
      "execution_count": null,
      "metadata": {
        "cellView": "form",
        "id": "GBRlz7DRueqx"
      },
      "outputs": [],
      "source": [
        "#@markdown # 2) Generate random prompt\n",
        "import random\n",
        "promptList = []\n",
        "amount = 1 #@param {type:\"number\"}\n",
        "\n",
        "def make_random_prompt(amount):\n",
        "  for i in range(amount):\n",
        "    styles = open(\"styles\").read().split()\n",
        "    index = random.randint(0, len(styles) - 1)\n",
        "    style = styles[index].capitalize()\n",
        "    prompt = style + \" painting\"\n",
        "    r = random.random()\n",
        "\n",
        "    places = open(\"places\").read().splitlines()\n",
        "    things = open(\"things\").read().splitlines()\n",
        "    shapes = open(\"shapes\").read().splitlines()\n",
        "    colors = open(\"colors\").read().splitlines()\n",
        "    artist = open(\"artists\").read().splitlines()\n",
        "\n",
        "    if r < 1.0 / 3.0:\n",
        "      series = \"shapes\"\n",
        "      index_shapes = random.randint(0, len(shapes) - 1)\n",
        "      index_colors = random.randint(0, len(colors) - 1)\n",
        "      subject = \" with \" + shapes[index_shapes] + \" in \" + colors[index_colors]\n",
        "      prompt += subject\n",
        "    elif r < 2.0 / 3.0:\n",
        "      series = \"things\"\n",
        "      index_things = random.randint(0, len(things) - 1)\n",
        "      index_colors = random.randint(0, len(colors) - 1)\n",
        "      prompt += \" of \" + things[index_things] + \" in the color \" + colors[index_colors]\n",
        "    elif r < 3.0 / 4.0:\n",
        "      series = \"shapes and colors\"\n",
        "      index_shapes = random.randint(0, len(shapes) - 1)\n",
        "      index_things = random.randint(0, len(things) - 1)\n",
        "      index_colors = random.randint(0, len(colors) - 1)\n",
        "      subject = \" of \" + things[index_things] + \" with \" + shapes[index_shapes] + \" in \" + colors[index_colors]\n",
        "      prompt += subject\n",
        "    elif r < 4.0 / 5.0:\n",
        "      series = \"shapes\"\n",
        "      index_shapes = random.randint(0, len(shapes) - 1)\n",
        "      index_colors = random.randint(0, len(colors) - 1)\n",
        "      index_artist = random.randint(0, len(artist) - 1)\n",
        "      subject = \" with \" + shapes[index_shapes] + \" in \" + colors[index_colors] + \" in the style of \" + artist[index_artist]\n",
        "      prompt += subject\n",
        "    elif r < 5.0 / 6.0:\n",
        "      series = \"things\"\n",
        "      index_things = random.randint(0, len(things) - 1)\n",
        "      index_colors = random.randint(0, len(colors) - 1)\n",
        "      index_artist = random.randint(0, len(artist) - 1)\n",
        "      prompt += \" of \" + things[index_things] + \" in the color \" + colors[index_colors] + \" in the style of \" + artist[index_artist]\n",
        "    elif r < 6.0 / 7.0:\n",
        "      series = \"shapes and colors\"\n",
        "      index_shapes = random.randint(0, len(shapes) - 1)\n",
        "      index_things = random.randint(0, len(things) - 1)\n",
        "      index_colors = random.randint(0, len(colors) - 1)\n",
        "      index_artist = random.randint(0, len(artist) - 1)\n",
        "      subject = \" of \" + things[index_things] + \" with \" + shapes[index_shapes] + \" in \" + colors[index_colors] + \" in the style of \" + artist[index_artist]\n",
        "      prompt += subject\n",
        "    else:\n",
        "      series = \"places\"\n",
        "      index_places = random.randint(0, len(places) - 1)\n",
        "      index_colors = random.randint(0, len(colors) - 1)\n",
        "      prompt += \" of \" + places[index_places] + \" in the color \" + colors[index_colors]\n",
        "\n",
        "    promptList.append(prompt)\n",
        "\n",
        "make_random_prompt(amount)\n",
        "\n",
        "for k in promptList:\n",
        "  print(k)"
      ]
    }
  ]
}