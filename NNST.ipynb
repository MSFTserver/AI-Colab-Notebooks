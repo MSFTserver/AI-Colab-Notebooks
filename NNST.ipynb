{
  "nbformat": 4,
  "nbformat_minor": 0,
  "metadata": {
    "colab": {
      "name": "NNST.ipynb",
      "provenance": [],
      "collapsed_sections": [],
      "private_outputs": true,
      "authorship_tag": "ABX9TyPg6h7P+h7PA5YPlzEOMz5p",
      "include_colab_link": true
    },
    "kernelspec": {
      "name": "python3",
      "display_name": "Python 3"
    },
    "language_info": {
      "name": "python"
    },
    "accelerator": "GPU"
  },
  "cells": [
    {
      "cell_type": "markdown",
      "metadata": {
        "id": "view-in-github",
        "colab_type": "text"
      },
      "source": [
        "<a href=\"https://colab.research.google.com/github/MSFTserver/AI-Colab-Notebooks/blob/main/NNST.ipynb\" target=\"_parent\"><img src=\"https://colab.research.google.com/assets/colab-badge.svg\" alt=\"Open In Colab\"/></a>"
      ]
    },
    {
      "cell_type": "markdown",
      "source": [
        "# Neural Neighbor Style Transfer \n",
        "https://github.com/nkolkin13/NeuralNeighborStyleTransfer\n",
        "<br><br>\n",
        "\n",
        "Colab ~~Repo~~ for the algorithm NNST-Opt, described in the preprint \"Neural Neighbor Style Transfer\", please feel free to email any questions to kolkin@adobe.com Paper Link: https://ttic.uchicago.edu/~nickkolkin/Paper/NNST_Preprint.pdf\n",
        "\n",
        "----\n",
        "<br><br>\n",
        "made to run in colab by [MSFTserver](https://gist.github.com/MSFTserver) aka [HostsServer](https://twitter.com/hostsserver)"
      ],
      "metadata": {
        "id": "abeUr-VVTD8x"
      }
    },
    {
      "cell_type": "code",
      "execution_count": null,
      "metadata": {
        "cellView": "form",
        "id": "Pa9Ej2RWSsaS"
      },
      "outputs": [],
      "source": [
        "#@markdown # 1) Download & Import Dependecies\n",
        "\n",
        "# Core Imports\n",
        "import time\n",
        "import argparse\n",
        "import random\n",
        "import sys\n",
        "\n",
        "# External Dependency Imports\n",
        "from imageio import imwrite\n",
        "import torch\n",
        "import numpy as np\n",
        "\n",
        "# Internal Project Imports\n",
        "!git clone https://github.com/nkolkin13/NeuralNeighborStyleTransfer\n",
        "sys.path.append('/content/NeuralNeighborStyleTransfer')\n",
        "from pretrained.vgg import Vgg16Pretrained\n",
        "from utils import misc as misc\n",
        "from utils.misc import load_path_for_pytorch\n",
        "from utils.stylize import produce_stylization"
      ]
    },
    {
      "cell_type": "code",
      "source": [
        "#@markdown # 2) Prepare Folders\n",
        "import os\n",
        "from google.colab import drive\n",
        "\n",
        "def createPath(filepath):\n",
        "    if os.path.exists(filepath) == False:\n",
        "      os.makedirs(filepath)\n",
        "      print(f'Made {filepath}')\n",
        "    else:\n",
        "      print(f'filepath {filepath} exists.')\n",
        "#@markdown optionally link google drive and upload images to `AI/NNST/in` folder\n",
        "google_drive = False #@param {type:\"boolean\"}\n",
        "\n",
        "if google_drive:\n",
        "  print(\"Using Google Drive.\")\n",
        "  drive.mount('/content/drive')\n",
        "  root_path = '/content/drive/MyDrive/AI/NNST'\n",
        "else:\n",
        "  google_drive = False\n",
        "  print(\"Google Drive not connected.\")\n",
        "  root_path = '/content'\n",
        "\n",
        "input_path = f'{root_path}/in'\n",
        "output_path = f'{root_path}/out'\n",
        "\n",
        "createPath(input_path)\n",
        "createPath(output_path)"
      ],
      "metadata": {
        "cellView": "form",
        "id": "EE0haTPEX1-F"
      },
      "execution_count": null,
      "outputs": []
    },
    {
      "cell_type": "code",
      "source": [
        "#@markdown # 3) Upload Content Image\n",
        "#@markdown ### <font color=\"red\"> READ BEFORE RUNNING </font>\n",
        "#@markdown enter the image name including extension before running!\n",
        "#@markdown #### &nbsp;&nbsp;&nbsp;- <font color=\"green\">Google Drive Mounted: </font>\n",
        "#@markdown &nbsp;&nbsp;&nbsp;&nbsp;&nbsp;&nbsp;\n",
        "#@markdown => if you linked Google Drive please upload images to the `AI/NNST/in` folder that was created.\n",
        "\n",
        "#@markdown #### &nbsp;&nbsp;&nbsp;- <font color=\"blue\">No Google Drive Mounted: </font>\n",
        "#@markdown &nbsp;&nbsp;&nbsp;&nbsp;&nbsp;&nbsp;\n",
        "#@markdown => if you didnt upload to google drive proceed to running this cell and uploading your image \n",
        "#@markdown <br><br>\n",
        "content_image_file_name = '!!!DONT USE IF NOT MOUNTING DRIVE!!!' #@param {type:\"string\"}\n",
        "\n",
        "import os\n",
        "from google.colab import files\n",
        "import shutil\n",
        "\n",
        "if google_drive:\n",
        "  content_path = f'{input_path}/{content_image_file_name}'\n",
        "else:\n",
        "  uploaded_content = files.upload()\n",
        "  content_dst_path = os.path.join(input_path, list(uploaded_content.keys())[0])\n",
        "  shutil.move(list(uploaded_content.keys())[0], content_dst_path)\n",
        "  content_path = f'{input_path}/{list(uploaded_content.keys())[0]}'\n",
        "\n",
        "from IPython.display import Image\n",
        "Image(content_path, height=500)"
      ],
      "metadata": {
        "cellView": "form",
        "id": "wft8nfu2a3S_"
      },
      "execution_count": null,
      "outputs": []
    },
    {
      "cell_type": "code",
      "source": [
        "#@markdown # 4) Upload Style Image\n",
        "#@markdown ## <font color=\"red\"> READ BEFORE RUNNING </font>\n",
        "#@markdown ### <font color=\"green\">Google Drive Mounted: </font>\n",
        "\n",
        "#@markdown => enter the image name including extension before running!<br>\n",
        "#@markdown => if you linked Google Drive please upload images to the `AI/NNST/in` folder that was created.\n",
        "#@markdown #### <font color=\"blue\">No Google Drive Mounted: </font>\n",
        "\n",
        "#@markdown => if you didnt upload to google drive proceed to running this cell and uploading your image \n",
        "#@markdown <br><br>\n",
        "style_image_file_name = '!!!DONT USE IF NOT MOUNTING DRIVE!!!' #@param {type:\"string\"}\n",
        "\n",
        "import os\n",
        "from google.colab import files\n",
        "import shutil\n",
        "\n",
        "if google_drive:\n",
        "  style_path = f'{input_path}/{style_image_file_name}'\n",
        "else:\n",
        "  uploaded_style = files.upload()\n",
        "  style_dst_path = os.path.join(input_path, list(uploaded_style.keys())[0])\n",
        "  shutil.move(list(uploaded_style.keys())[0], style_dst_path)\n",
        "  style_path = f'{input_path}/{list(uploaded_style.keys())[0]}'\n",
        "\n",
        "from IPython.display import Image\n",
        "Image(style_path, height=500)"
      ],
      "metadata": {
        "cellView": "form",
        "id": "y2MOwQW9hTVK"
      },
      "execution_count": null,
      "outputs": []
    },
    {
      "cell_type": "code",
      "source": [
        "#@markdown # 5) Config\n",
        "# Fix Random Seed\n",
        "random.seed(0)\n",
        "np.random.seed(0)\n",
        "torch.manual_seed(0)\n",
        "\n",
        "# Define Configuration\n",
        "high_res = False #@param {type:\"boolean\"}\n",
        "cpu = False #@param {type:\"boolean\"}\n",
        "no_flip = False #@param {type:\"boolean\"}\n",
        "content_loss = False #@param {type:\"boolean\"}\n",
        "dont_colorize = False #@param {type:\"boolean\"}\n",
        "alpha=0.75 #@param {type:\"number\"}\n",
        "\n",
        "# Interpret config options arguments\n",
        "max_scls = 4\n",
        "sz = 512\n",
        "if high_res:\n",
        "    max_scls = 5\n",
        "    sz = 1024\n",
        "flip_aug = (not no_flip)\n",
        "misc.USE_GPU = (not cpu)\n",
        "content_weight = 1. - alpha\n",
        "\n",
        "# Error checking for arguments\n",
        "# error checking for paths deferred to imageio\n",
        "assert (0.0 <= content_weight) and (content_weight <= 1.0), \"alpha must be between 0 and 1\"\n",
        "assert torch.cuda.is_available() or (not misc.USE_GPU), \"attempted to use gpu when unavailable\""
      ],
      "metadata": {
        "cellView": "form",
        "id": "1G_PF6q8TDZ9"
      },
      "execution_count": null,
      "outputs": []
    },
    {
      "cell_type": "code",
      "source": [
        "#@markdown # 6) Run Style Transfer\n",
        "# Define feature extractor\n",
        "cnn = misc.to_device(Vgg16Pretrained())\n",
        "phi = lambda x, y, z: cnn.forward(x, inds=y, concat=z)\n",
        "\n",
        "# Load images\n",
        "content_im_orig = misc.to_device(load_path_for_pytorch(content_path, target_size=sz)).unsqueeze(0)\n",
        "style_im_orig = misc.to_device(load_path_for_pytorch(style_path, target_size=sz)).unsqueeze(0)\n",
        "\n",
        "# Run Style Transfer\n",
        "torch.cuda.synchronize()\n",
        "start_time = time.time()\n",
        "output = produce_stylization(content_im_orig, style_im_orig, phi,\n",
        "                            max_iter=200,\n",
        "                            lr=2e-3,\n",
        "                            content_weight=content_weight,\n",
        "                            max_scls=max_scls,\n",
        "                            flip_aug=flip_aug,\n",
        "                            content_loss=content_loss,\n",
        "                            dont_colorize=dont_colorize)\n",
        "torch.cuda.synchronize()\n",
        "print('Done! total time: {}'.format(time.time() - start_time))\n",
        "\n",
        "# Convert from pyTorch to numpy, clip to valid range\n",
        "new_im_out = np.clip(output[0].permute(1, 2, 0).detach().cpu().numpy(), 0., 1.)\n",
        "\n",
        "# Save stylized output\n",
        "save_im = (new_im_out * 255).astype(np.uint8)\n",
        "imwrite(f'{output_path}/output.jpg', save_im)\n",
        "\n",
        "# Free gpu memory in case something else needs it later\n",
        "if misc.USE_GPU:\n",
        "    torch.cuda.empty_cache()\n",
        "\n",
        "from IPython.display import Image\n",
        "Image(f'{output_path}/output.jpg')"
      ],
      "metadata": {
        "cellView": "form",
        "id": "qQVBrMX1WgF_"
      },
      "execution_count": null,
      "outputs": []
    }
  ]
}